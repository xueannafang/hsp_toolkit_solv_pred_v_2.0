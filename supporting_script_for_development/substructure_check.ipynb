{
 "cells": [
  {
   "cell_type": "markdown",
   "id": "617ae398",
   "metadata": {},
   "source": [
    "This notebook helps to check substructures involved in a SMILES string"
   ]
  },
  {
   "cell_type": "code",
   "execution_count": 5,
   "id": "fac1710c",
   "metadata": {},
   "outputs": [],
   "source": [
    "from rdkit import Chem\n",
    "from rdkit.Chem import MACCSkeys"
   ]
  },
  {
   "cell_type": "code",
   "execution_count": 6,
   "id": "8a1c4c5c",
   "metadata": {},
   "outputs": [],
   "source": [
    "#Please input the SMILES string here\n",
    "sm = \"CS(=O)C\""
   ]
  },
  {
   "cell_type": "code",
   "execution_count": 7,
   "id": "59c7e7df",
   "metadata": {},
   "outputs": [],
   "source": [
    "def get_MACCS_from_sm(sm):\n",
    "    mol = Chem.MolFromSmiles(sm)\n",
    "    fp = MACCSkeys.GenMACCSKeys(mol)\n",
    "    mol_MACCS = fp.ToBitString()\n",
    "    return mol_MACCS, fp"
   ]
  },
  {
   "cell_type": "code",
   "execution_count": 8,
   "id": "577f04e6",
   "metadata": {},
   "outputs": [],
   "source": [
    "#generate MACCS keys fingerprint\n",
    "mol_MACCS, fp = get_MACCS_from_sm(sm)"
   ]
  },
  {
   "cell_type": "code",
   "execution_count": 9,
   "id": "5fbad049",
   "metadata": {},
   "outputs": [
    {
     "data": {
      "text/plain": [
       "'00000000000000000000000000000000000000000000000000010000000011000001000001100000000000101000010000000010000000000000000000001000000000000000000000001100000000001000100'"
      ]
     },
     "execution_count": 9,
     "metadata": {},
     "output_type": "execute_result"
    }
   ],
   "source": [
    "#You can check the fingerprint of this molecule here:\n",
    "mol_MACCS"
   ]
  },
  {
   "cell_type": "code",
   "execution_count": 10,
   "id": "0f72f1a0",
   "metadata": {},
   "outputs": [
    {
     "name": "stdout",
     "output_type": "stream",
     "text": [
      "Total number of bits: 167\n",
      "Total number of 0 - off bits: 152\n",
      "Total number of 1 - on bits: 15\n"
     ]
    }
   ],
   "source": [
    "#Optional: check the total number of substructures present (the on_bit) or absent (the off_bit)\n",
    "print(f\"Total number of bits: {fp.GetNumBits()}\") # get the total number of bits\n",
    "print(f\"Total number of 0 - off bits: {fp.GetNumOffBits()}\")\n",
    "print(f\"Total number of 1 - on bits: {fp.GetNumOnBits()}\")"
   ]
  },
  {
   "cell_type": "code",
   "execution_count": 11,
   "id": "b8ca7029",
   "metadata": {},
   "outputs": [
    {
     "name": "stdout",
     "output_type": "stream",
     "text": [
      "{'idx': 51, 'chem_mean': ('[#6]~[#16]~[#8]', 0)}\n",
      "{'idx': 60, 'chem_mean': ('[#16]=[#8]', 0)}\n",
      "{'idx': 61, 'chem_mean': ('*~[#16](~*)~*', 0)}\n",
      "{'idx': 67, 'chem_mean': ('[!#6;!#1]~[#16]', 0)}\n",
      "{'idx': 73, 'chem_mean': ('[#16]=*', 0)}\n",
      "{'idx': 74, 'chem_mean': ('[CH3]~*~[CH3]', 0)}\n",
      "{'idx': 86, 'chem_mean': ('[C;H2,H3][!#6;!#1][C;H2,H3]', 0)}\n",
      "{'idx': 88, 'chem_mean': ('[#16]', 0)}\n",
      "{'idx': 93, 'chem_mean': ('[!#6;!#1]~[CH3]', 0)}\n",
      "{'idx': 102, 'chem_mean': ('[!#6;!#1]~[#8]', 0)}\n",
      "{'idx': 124, 'chem_mean': ('[!#6;!#1]~[!#6;!#1]', 0)}\n",
      "{'idx': 148, 'chem_mean': ('*~[!#6;!#1](~*)~*', 0)}\n",
      "{'idx': 149, 'chem_mean': ('[C;H3,H4]', 1)}\n",
      "{'idx': 160, 'chem_mean': ('[C;H3,H4]', 0)}\n",
      "{'idx': 164, 'chem_mean': ('[#8]', 0)}\n"
     ]
    }
   ],
   "source": [
    "#Check the substructures involved in this molecule\n",
    "all_on_bit = []\n",
    "fp_bit_string = fp.ToBitString()\n",
    "for i in range(len(fp_bit_string)):\n",
    "    on_bit = {}\n",
    "    this_bit = int(fp_bit_string[i])\n",
    "    if this_bit == 1:\n",
    "        on_bit[\"idx\"] = i\n",
    "        on_bit[\"chem_mean\"] = MACCSkeys.smartsPatts[i]\n",
    "        all_on_bit.append(on_bit)\n",
    "        print(on_bit)"
   ]
  },
  {
   "cell_type": "code",
   "execution_count": null,
   "id": "84f316ad",
   "metadata": {},
   "outputs": [],
   "source": []
  }
 ],
 "metadata": {
  "kernelspec": {
   "display_name": "Python 3 (ipykernel)",
   "language": "python",
   "name": "python3"
  },
  "language_info": {
   "codemirror_mode": {
    "name": "ipython",
    "version": 3
   },
   "file_extension": ".py",
   "mimetype": "text/x-python",
   "name": "python",
   "nbconvert_exporter": "python",
   "pygments_lexer": "ipython3",
   "version": "3.10.12"
  }
 },
 "nbformat": 4,
 "nbformat_minor": 5
}
