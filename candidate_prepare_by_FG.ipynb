{
 "cells": [
  {
   "cell_type": "code",
   "execution_count": 1,
   "id": "5044defc",
   "metadata": {},
   "outputs": [],
   "source": [
    "from rdkit import Chem\n",
    "from rdkit.Chem import Fragments\n",
    "from rdkit.Chem import MACCSkeys\n",
    "import pandas as pd\n",
    "import numpy as np"
   ]
  },
  {
   "cell_type": "code",
   "execution_count": 5,
   "id": "b76def4b",
   "metadata": {},
   "outputs": [],
   "source": [
    "#Please specify the functional group to check.\n",
    "#\"Discard\": True will remove candidates with corresponding FG.\n",
    "#\"Discard\": False will only keep candidates with corresponding FG.\n",
    "#For example:\n",
    "FG_to_check = {\n",
    "    \"FG\" : \"Cl\",\n",
    "    \"Discard\" : \"True\"\n",
    "}\n",
    "#This will return a non-chlorinated subset"
   ]
  },
  {
   "cell_type": "code",
   "execution_count": 2,
   "id": "e6b7c82c",
   "metadata": {},
   "outputs": [],
   "source": [
    "#Please check FIND_STRUCT_BY_FP and FIND_GROUP for the name of functional group as filtration indicator\n",
    "FIND_STRUCT_BY_FP = {\n",
    "    \"Cl\" : 103,\n",
    "    \"F\" : 42,\n",
    "    \"Br\" : 46,\n",
    "    \"P\" : 29,\n",
    "    \"NH2\" : 84,\n",
    "    \"NH\" : 151,\n",
    "    \"OH\" : 139,\n",
    "    \"Aromatic\" : 162,\n",
    "    \"C=O\" : 154,\n",
    "    \"S=O\" : 60\n",
    "}"
   ]
  },
  {
   "cell_type": "code",
   "execution_count": 6,
   "id": "65b3d33b",
   "metadata": {},
   "outputs": [],
   "source": [
    "#Higher level structures will use Fragments method (instead of fingerprint only)\n",
    "\n",
    "FIND_GROUP = {\n",
    "    \"Aliphatic_carboxylic_acids\":Fragments.fr_Al_COO,\n",
    "    \"Aromatic_carboxylic_acids\" : Fragments.fr_Ar_COO,\n",
    "    \"General_carboxylic_acids\": Fragments.fr_COO,\n",
    "    \"Aliphatic_OH\":Fragments.fr_Al_OH,\n",
    "    \"Aromatic_OH\" : Fragments.fr_Ar_OH,\n",
    "    \"Aromatic_N\" : Fragments.fr_Ar_N,\n",
    "    \"Aromatic_amines\" : Fragments.fr_Ar_NH,\n",
    "    \"Tertiary_amines\" : Fragments.fr_NH0,\n",
    "    \"Secondary_amines\" : Fragments.fr_NH1,\n",
    "    \"Primary_amines\" : Fragments.fr_NH2,\n",
    "    \"Hydroxylamine\" : Fragments.fr_N_O,\n",
    "    \"Amides\" : Fragments.fr_amide,\n",
    "    \"Imides\" : Fragments.fr_imide,\n",
    "    \"Amidine\" : Fragments.fr_amidine,\n",
    "    \"Aniline\" : Fragments.fr_aniline,\n",
    "    \"Thio\" : Fragments.fr_SH,\n",
    "    \"Aldehydes\" : Fragments.fr_aldehyde,\n",
    "    \"Alkyl_carbamate\" : Fragments.fr_alkyl_carbamate,\n",
    "    \"Alkyl_halide\" : Fragments.fr_alkyl_halide,\n",
    "    \"Halogens\" : Fragments.fr_halogen,\n",
    "    \"Aryl_methyl\" : Fragments.fr_aryl_methyl,\n",
    "    \"Benzene_rings\" : Fragments.fr_benzene,\n",
    "    \"Ester\" : Fragments.fr_ester,\n",
    "    \"Ether\" : Fragments.fr_ether,\n",
    "    \"Furan_rings\" : Fragments.fr_furan,\n",
    "    \"Imidazole_rings\" : Fragments.fr_imidazole,\n",
    "    \"Ketones\" : Fragments.fr_ketone,\n",
    "    \"Lactones\" : Fragments.fr_lactone,\n",
    "    \"Methoxy\" : Fragments.fr_methoxy,\n",
    "    \"Nitriles\" : Fragments.fr_nitrile,\n",
    "    \"Nitros\" : Fragments.fr_nitro,\n",
    "    \"Nitro_benzene_rings\" : Fragments.fr_nitro_arom,\n",
    "    \"Oxazole_rings\" : Fragments.fr_oxazole,\n",
    "    \"Phenols\" : Fragments.fr_phenol,\n",
    "    \"P_acids\" : Fragments.fr_phos_acid,\n",
    "    \"P_esters\" : Fragments.fr_phos_ester,\n",
    "    \"Primary_amides\" : Fragments.fr_priamide,\n",
    "    \"Pyridine_rings\" : Fragments.fr_pyridine,\n",
    "    \"Sulfide\" : Fragments.fr_sulfide,\n",
    "    \"Sulfonamides\" : Fragments.fr_sulfonamd,\n",
    "    \"Sulfone\" : Fragments.fr_sulfone,\n",
    "    \"Thiazole_rings\" : Fragments.fr_thiazole,\n",
    "    \"Linear_alkanes_over_4\" : Fragments.fr_unbrch_alkane,\n",
    "    \"Urea\" : Fragments.fr_urea\n",
    "    }"
   ]
  },
  {
   "cell_type": "code",
   "execution_count": 4,
   "id": "f6b33e8d",
   "metadata": {},
   "outputs": [],
   "source": [
    "def find_FG(sm, FG = \"Aliphatic_OH\"):\n",
    "    mol = Chem.MolFromSmiles(sm)\n",
    "    \n",
    "    if FG not in FIND_STRUCT_BY_FP.keys() and (FG not in FIND_GROUP.keys()):\n",
    "        raise ValueError(f\"Cannot find {FG}. Please check FIND_GROUP or FIND_STRUCT_BY_FP for all avilable groups.\")\n",
    "    \n",
    "    if FG in FIND_STRUCT_BY_FP.keys():\n",
    "        find_FG_res = find_struct_from_fp(mol, FG)\n",
    "        return find_FG_res\n",
    "\n",
    "    else:\n",
    "        n_FG = FIND_GROUP[FG](mol)\n",
    "        print(f\"Number of {FG} in this molecule is: {n_FG}\")\n",
    "    \n",
    "        if n_FG != 0:\n",
    "            find_FG_res = {\"FG\" : FG, \"FG_exist\" : \"True\"}\n",
    "        else:\n",
    "            find_FG_res = {\"FG\" : FG, \"FG_exist\" : \"False\"}\n",
    "    return find_FG_res"
   ]
  },
  {
   "cell_type": "code",
   "execution_count": null,
   "id": "85486924",
   "metadata": {},
   "outputs": [],
   "source": []
  }
 ],
 "metadata": {
  "kernelspec": {
   "display_name": "Python 3 (ipykernel)",
   "language": "python",
   "name": "python3"
  },
  "language_info": {
   "codemirror_mode": {
    "name": "ipython",
    "version": 3
   },
   "file_extension": ".py",
   "mimetype": "text/x-python",
   "name": "python",
   "nbconvert_exporter": "python",
   "pygments_lexer": "ipython3",
   "version": "3.10.12"
  }
 },
 "nbformat": 4,
 "nbformat_minor": 5
}
