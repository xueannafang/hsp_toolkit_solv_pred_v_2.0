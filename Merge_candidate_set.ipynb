{
 "cells": [
  {
   "cell_type": "code",
   "execution_count": 1,
   "id": "00597afc",
   "metadata": {},
   "outputs": [],
   "source": [
    "import pandas as pd"
   ]
  },
  {
   "cell_type": "code",
   "execution_count": 51,
   "id": "eaa7ae89",
   "metadata": {},
   "outputs": [],
   "source": [
    "# cand_1_filename = \"non_chlorinated_candidates.csv\"\n",
    "cand_1_filename = \"OH_non_chlorinated_candidates.csv\"\n",
    "cand_2_filename = \"safe_green_candidates.csv\""
   ]
  },
  {
   "cell_type": "code",
   "execution_count": 52,
   "id": "ac3bb9eb",
   "metadata": {},
   "outputs": [],
   "source": [
    "def intersect_cand(cand_1_filename, cand_2_filename):\n",
    "    if cand_1_filename.split(\".\")[-1] == \"csv\":\n",
    "        cand_set_1 = pd.read_csv(cand_1_filename).to_dict(\"records\")\n",
    "    elif cand_1_filename.split(\".\")[-1] == \"json\":\n",
    "        cand_set_1 = pd.read_json(cand_1_filename).to_dict(\"records\")\n",
    "    \n",
    "    if cand_2_filename.split(\".\")[-1] == \"csv\":\n",
    "        cand_set_2 = pd.read_csv(cand_2_filename).to_dict(\"records\")\n",
    "    elif cand_2_filename.split(\".\")[-1] == \"json\":\n",
    "        cand_set_2 = pd.read_json(cand_2_filename).to_dict(\"records\")\n",
    "        \n",
    "    print(f\"Number of candidates in set 1 is: {len(cand_set_1)}.\")\n",
    "    print(f\"Number of candidates in set 2 is: {len(cand_set_2)}.\")\n",
    "#     print(len(cand_set_1), len(cand_set_2))\n",
    "    inter_cand_set = []\n",
    "    for set_1_entry in cand_set_1:\n",
    "        for set_2_entry in cand_set_2:\n",
    "            if set_1_entry[\"CAS\"] == set_2_entry[\"CAS\"]:\n",
    "                inter_cand_set.append(set_1_entry)\n",
    "    print(f\"Number of candidates in intersection is: {len(inter_cand_set)}.\")            \n",
    "    inter_cand_df = pd.DataFrame(inter_cand_set)\n",
    "    short_name_1 = \"_\".join(cand_1_filename.split(\"_\")[:-1])\n",
    "    short_name_2 = \"_\".join(cand_2_filename.split(\"_\")[:-1])\n",
    "    print(f\"Merging {short_name_1} and {short_name_2} candidates...\")\n",
    "    \n",
    "    comb_name = short_name_1 + \"_\" + short_name_2 +\"_candidates\"\n",
    "    print(\"saving results...\")\n",
    "    inter_cand_csv_filename = comb_name+\".csv\"\n",
    "    inter_cand_json_filename = comb_name+\".json\"\n",
    "    inter_cand_df.to_csv(inter_cand_csv_filename, index = None)\n",
    "    print(f\"{inter_cand_csv_filename} saved.\")\n",
    "    inter_cand_df.to_json(inter_cand_json_filename, orient = \"records\")\n",
    "    print(f\"{inter_cand_json_filename} saved.\")\n",
    "    "
   ]
  },
  {
   "cell_type": "code",
   "execution_count": 53,
   "id": "42966591",
   "metadata": {},
   "outputs": [
    {
     "name": "stdout",
     "output_type": "stream",
     "text": [
      "Number of candidates in set 1 is: 72.\n",
      "Number of candidates in set 2 is: 138.\n",
      "Number of candidates in intersection is: 55.\n",
      "Merging OH_non_chlorinated and safe_green candidates...\n",
      "saving results...\n",
      "OH_non_chlorinated_safe_green_candidates.csv saved.\n",
      "OH_non_chlorinated_safe_green_candidates.json saved.\n"
     ]
    }
   ],
   "source": [
    "intersect_cand(cand_1_filename, cand_2_filename)"
   ]
  },
  {
   "cell_type": "code",
   "execution_count": 4,
   "id": "d71a28cb",
   "metadata": {},
   "outputs": [],
   "source": [
    "cand_set_1 = pd.read_csv(cand_1_filename).to_dict(\"records\")\n",
    "cand_set_2 = pd.read_csv(cand_2_filename).to_dict(\"records\")"
   ]
  },
  {
   "cell_type": "code",
   "execution_count": 10,
   "id": "c983509f",
   "metadata": {},
   "outputs": [
    {
     "name": "stdout",
     "output_type": "stream",
     "text": [
      "218 138\n"
     ]
    }
   ],
   "source": [
    "print(len(cand_set_1), len(cand_set_2))"
   ]
  },
  {
   "cell_type": "code",
   "execution_count": 7,
   "id": "6db0ad0d",
   "metadata": {},
   "outputs": [],
   "source": [
    "inter_cand_set = []\n",
    "for set_1_entry in cand_set_1:\n",
    "    for set_2_entry in cand_set_2:\n",
    "        if set_1_entry[\"CAS\"] == set_2_entry[\"CAS\"]:\n",
    "            inter_cand_set.append(set_1_entry)\n"
   ]
  },
  {
   "cell_type": "code",
   "execution_count": 9,
   "id": "9b9e98b0",
   "metadata": {},
   "outputs": [
    {
     "data": {
      "text/plain": [
       "127"
      ]
     },
     "execution_count": 9,
     "metadata": {},
     "output_type": "execute_result"
    }
   ],
   "source": [
    "len(inter_cand_set)"
   ]
  },
  {
   "cell_type": "code",
   "execution_count": 11,
   "id": "01897d4d",
   "metadata": {},
   "outputs": [],
   "source": [
    "inter_cand_df = pd.DataFrame(inter_cand_set)"
   ]
  },
  {
   "cell_type": "code",
   "execution_count": 16,
   "id": "853fd132",
   "metadata": {},
   "outputs": [
    {
     "name": "stdout",
     "output_type": "stream",
     "text": [
      "non_chlorinated_safe_green_candidates\n"
     ]
    }
   ],
   "source": [
    "short_name_1 = \"_\".join(cand_1_filename.split(\"_\")[:-1])\n",
    "short_name_2 = \"_\".join(cand_2_filename.split(\"_\")[:-1])\n",
    "comb_name = short_name_1 + \"_\" + short_name_2 +\"_candidates\"\n",
    "print(comb_name)"
   ]
  },
  {
   "cell_type": "code",
   "execution_count": 17,
   "id": "f6d583b8",
   "metadata": {},
   "outputs": [],
   "source": [
    "inter_cand_csv_filename = comb_name+\".csv\"\n",
    "inter_cand_json_filename = comb_name+\".json\"\n",
    "inter_cand_df.to_csv(inter_cand_csv_filename, index = None)\n",
    "inter_cand_df.to_json(inter_cand_json_filename, orient = \"records\")"
   ]
  },
  {
   "cell_type": "code",
   "execution_count": null,
   "id": "1a862c65",
   "metadata": {},
   "outputs": [],
   "source": []
  }
 ],
 "metadata": {
  "kernelspec": {
   "display_name": "Python 3 (ipykernel)",
   "language": "python",
   "name": "python3"
  },
  "language_info": {
   "codemirror_mode": {
    "name": "ipython",
    "version": 3
   },
   "file_extension": ".py",
   "mimetype": "text/x-python",
   "name": "python",
   "nbconvert_exporter": "python",
   "pygments_lexer": "ipython3",
   "version": "3.9.12"
  }
 },
 "nbformat": 4,
 "nbformat_minor": 5
}
