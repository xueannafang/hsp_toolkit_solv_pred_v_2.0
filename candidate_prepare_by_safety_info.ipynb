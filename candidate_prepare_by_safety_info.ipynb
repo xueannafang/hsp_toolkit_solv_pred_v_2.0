{
 "cells": [
  {
   "cell_type": "code",
   "execution_count": 1,
   "id": "b6651d97",
   "metadata": {},
   "outputs": [],
   "source": [
    "import pandas as pd\n",
    "import json\n",
    "import numpy as np"
   ]
  },
  {
   "cell_type": "code",
   "execution_count": 2,
   "id": "b00705fd",
   "metadata": {},
   "outputs": [],
   "source": [
    "#full safety keywords list\n",
    "safety_kw_list = ['Flammable', 'Irritant', 'HealthHazard', 'Corrosive', 'AcuteToxic', 'EnvironmentalHazard', 'CompressedGas']"
   ]
  },
  {
   "cell_type": "code",
   "execution_count": 3,
   "id": "50f08a2b",
   "metadata": {},
   "outputs": [],
   "source": [
    "#Please modify your safety concern list, example:\n",
    "concern_list = [\"AcuteToxic\", \"EnvironmentalHazard\", \"HealthHazard\"]"
   ]
  },
  {
   "cell_type": "code",
   "execution_count": 4,
   "id": "e626e7a3",
   "metadata": {},
   "outputs": [],
   "source": [
    "#load the database with safety keywords\n",
    "file_name = \"db_with_safe_info_reform.csv\""
   ]
  },
  {
   "cell_type": "code",
   "execution_count": 5,
   "id": "cc9a00fa",
   "metadata": {},
   "outputs": [],
   "source": [
    "db_safe_df = pd.read_csv(file_name)\n",
    "db_safe_dict = db_safe_df.to_dict(\"records\")"
   ]
  },
  {
   "cell_type": "code",
   "execution_count": 18,
   "id": "2b5cc9b5",
   "metadata": {},
   "outputs": [],
   "source": [
    "def get_cand_without_safety_concern(full_data_dict = db_safe_dict, concern = [\"AcuteToxic\", \"EnvironmentalHazard\"]):\n",
    "    safe_subset = []\n",
    "    for entry in full_data_dict:\n",
    "        safe_concern_found = 0\n",
    "        entry[\"concern_type\"] = []\n",
    "        this_safety_kw = entry[\"safety_kw\"]\n",
    "#         print(this_safety_kw)\n",
    "        if this_safety_kw is not np.NAN:\n",
    "            for kw in this_safety_kw[1:-1].replace(\"'\", \"\").split(\",\"):\n",
    "                if kw in concern:\n",
    "                    safe_concern_found = 1\n",
    "                    entry[\"concern_type\"].append(kw)\n",
    "                    \n",
    "            if safe_concern_found == 0:\n",
    "                entry[\"is_concern\"] = \"False\"\n",
    "                safe_subset.append(entry)\n",
    "                entry[\"concern_type\"] = -1\n",
    "            else:\n",
    "                entry[\"is_concern\"] = \"True\"\n",
    "        else:\n",
    "            entry[\"is_concern\"] = -1\n",
    "            entry[\"concern_type\"] = -1\n",
    "            safe_subset.append(entry)\n",
    "\n",
    "    return safe_subset, full_data_dict"
   ]
  },
  {
   "cell_type": "code",
   "execution_count": 21,
   "id": "e50e0107",
   "metadata": {},
   "outputs": [],
   "source": [
    "safe_subset, db_filt = get_cand_without_safety_concern(full_data_dict = db_safe_dict, concern = concern_list)"
   ]
  },
  {
   "cell_type": "code",
   "execution_count": null,
   "id": "0f4bd631",
   "metadata": {},
   "outputs": [],
   "source": [
    "#save subset and full data with safety classifided information\n",
    "\n",
    "#specify your file reference, e.g., non_health_hazard\n",
    "file_ref = \"non_toxic_non_health_hazard_green\"\n",
    "\n",
    "#save full db with classified information\n",
    "db_with_safe_info_classified = pd.DataFrame(db_filt)\n",
    "db_with_safe_info_classified.to_csv(f\"db_with_safe_info_classified_{file_ref}.csv\", index = None)\n",
    "db_with_safe_info_classified.to_json(f\"db_with_safe_info_classified_{file_ref}.json\", orient = \"records\")\n",
    "\n",
    "#save db with candidate subset only\n",
    "safe_subset_df = pd.DataFrame(safe_subset)\n",
    "safe_and_green_candidates = pd.DataFrame()\n",
    "safe_and_green_candidates[\"CAS\"] = safe_subset_df[\"CAS\"]\n",
    "safe_and_green_candidates[\"Solvent\"] = safe_subset_df[\"Name\"]\n",
    "# safe_and_green_candidates.head()\n",
    "safe_and_green_candidates.to_csv(f\"{file_ref}_candidates.csv\", index = None)\n",
    "safe_and_green_candidates.to_json(f\"{file_ref}_candidates.json\", orient =\"records\")\n"
   ]
  }
 ],
 "metadata": {
  "kernelspec": {
   "display_name": "Python 3 (ipykernel)",
   "language": "python",
   "name": "python3"
  },
  "language_info": {
   "codemirror_mode": {
    "name": "ipython",
    "version": 3
   },
   "file_extension": ".py",
   "mimetype": "text/x-python",
   "name": "python",
   "nbconvert_exporter": "python",
   "pygments_lexer": "ipython3",
   "version": "3.10.12"
  }
 },
 "nbformat": 4,
 "nbformat_minor": 5
}
